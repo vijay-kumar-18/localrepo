{
  "cells": [
    {
      "cell_type": "markdown",
      "metadata": {
        "id": "view-in-github",
        "colab_type": "text"
      },
      "source": [
        "<a href=\"https://colab.research.google.com/github/vijay-kumar-18/localrepo/blob/main/python_simple_programs.ipynb\" target=\"_parent\"><img src=\"https://colab.research.google.com/assets/colab-badge.svg\" alt=\"Open In Colab\"/></a>"
      ]
    },
    {
      "cell_type": "code",
      "execution_count": null,
      "metadata": {
        "colab": {
          "base_uri": "https://localhost:8080/"
        },
        "id": "VDO0O-ycIPkB",
        "outputId": "5122cd1d-e0ab-4c1c-a480-6704922d6388"
      },
      "outputs": [
        {
          "name": "stdout",
          "output_type": "stream",
          "text": [
            "8.0\n"
          ]
        }
      ],
      "source": [
        "x= 64\n",
        "y = x**(0.5)\n",
        "print (y)"
      ]
    },
    {
      "cell_type": "code",
      "execution_count": null,
      "metadata": {
        "colab": {
          "base_uri": "https://localhost:8080/"
        },
        "id": "BEzj-gEZIZz2",
        "outputId": "e771ad1b-fe7f-4f9a-a45b-fe6f9ba48c9b"
      },
      "outputs": [
        {
          "name": "stdout",
          "output_type": "stream",
          "text": [
            "8.0\n"
          ]
        }
      ],
      "source": [
        "X = 64\n",
        "Y = X**(1/3)\n",
        "print(y)"
      ]
    },
    {
      "cell_type": "code",
      "execution_count": null,
      "metadata": {
        "colab": {
          "base_uri": "https://localhost:8080/"
        },
        "id": "MrJA2-0uIrgy",
        "outputId": "fe97308c-0057-4300-f771-02bf0668d69b"
      },
      "outputs": [
        {
          "name": "stdout",
          "output_type": "stream",
          "text": [
            "8.0\n"
          ]
        }
      ],
      "source": [
        "import math\n",
        "x = 64\n",
        "y = math.sqrt(x)\n",
        "\n",
        "print(y)"
      ]
    },
    {
      "cell_type": "code",
      "execution_count": null,
      "metadata": {
        "colab": {
          "base_uri": "https://localhost:8080/"
        },
        "id": "h3GARaEII1xd",
        "outputId": "8b5d8a0b-d2cc-4093-c57d-a7fd5f105821"
      },
      "outputs": [
        {
          "name": "stdout",
          "output_type": "stream",
          "text": [
            "12\n"
          ]
        }
      ],
      "source": [
        "a = 12\n",
        "b = 14\n",
        "temp = a\n",
        "print(temp)"
      ]
    },
    {
      "cell_type": "code",
      "execution_count": null,
      "metadata": {
        "id": "hEe08mLUKhXX"
      },
      "outputs": [],
      "source": [
        "a = b\n",
        "b = temp"
      ]
    },
    {
      "cell_type": "code",
      "execution_count": null,
      "metadata": {
        "colab": {
          "base_uri": "https://localhost:8080/"
        },
        "id": "B4EvMIvMLFmR",
        "outputId": "3d5f46d7-f2a9-49d1-fa00-b38b3207d0b5"
      },
      "outputs": [
        {
          "name": "stdout",
          "output_type": "stream",
          "text": [
            "14 12\n"
          ]
        }
      ],
      "source": [
        "print(a, b)"
      ]
    },
    {
      "cell_type": "code",
      "execution_count": null,
      "metadata": {
        "id": "C4nfB9_KLMlC"
      },
      "outputs": [],
      "source": [
        "x = 12\n",
        "y = 13\n",
        "x,y = y,x"
      ]
    },
    {
      "cell_type": "code",
      "execution_count": null,
      "metadata": {
        "colab": {
          "base_uri": "https://localhost:8080/"
        },
        "id": "osnGADkHL027",
        "outputId": "6a7cdb2a-c58c-4711-cb27-2cd80394b0dd"
      },
      "outputs": [
        {
          "name": "stdout",
          "output_type": "stream",
          "text": [
            "13 12\n"
          ]
        }
      ],
      "source": [
        "print (x, y)"
      ]
    },
    {
      "cell_type": "code",
      "execution_count": null,
      "metadata": {
        "colab": {
          "base_uri": "https://localhost:8080/"
        },
        "id": "AfZoa7LNMG-v",
        "outputId": "5917c786-dff9-41aa-8ca9-711ab5fbeef4"
      },
      "outputs": [
        {
          "data": {
            "text/plain": [
              "56"
            ]
          },
          "execution_count": 22,
          "metadata": {},
          "output_type": "execute_result"
        }
      ],
      "source": [
        "new = [12,56,34]\n",
        "max(new)"
      ]
    },
    {
      "cell_type": "code",
      "execution_count": null,
      "metadata": {
        "colab": {
          "base_uri": "https://localhost:8080/"
        },
        "id": "0R5OUCF3SlpO",
        "outputId": "2354bf03-6a19-413e-89b9-1ff5c807bd8a"
      },
      "outputs": [
        {
          "name": "stdout",
          "output_type": "stream",
          "text": [
            "56\n"
          ]
        }
      ],
      "source": [
        "max_element =new[0]\n",
        "for i in new:\n",
        "  if i > max_element:\n",
        "    max_element = i\n",
        "print(max_element)"
      ]
    },
    {
      "cell_type": "code",
      "execution_count": null,
      "metadata": {
        "colab": {
          "base_uri": "https://localhost:8080/"
        },
        "id": "KGrjMm5sXJsQ",
        "outputId": "483d2c14-e5af-4742-ff24-5dfe14d5dd1e"
      },
      "outputs": [
        {
          "name": "stdout",
          "output_type": "stream",
          "text": [
            "enter a number to check for prime: 654\n",
            "not prime\n"
          ]
        }
      ],
      "source": [
        "num = int(input('enter a number to check for prime: '))\n",
        "if num ==1:\n",
        "  print('not a prime number')\n",
        "if num >1:\n",
        "  for i in range (2, num):\n",
        "    if num %i ==0:\n",
        "      print('not prime')\n",
        "    break\n",
        "else:\n",
        "   print ('prime')"
      ]
    },
    {
      "cell_type": "code",
      "execution_count": null,
      "metadata": {
        "colab": {
          "base_uri": "https://localhost:8080/"
        },
        "id": "JSTK-2MhaEec",
        "outputId": "80167680-f4b3-484c-9787-148c9c385785"
      },
      "outputs": [
        {
          "name": "stdout",
          "output_type": "stream",
          "text": [
            "enter number that you want to create a list of prime numbers25\n",
            "[2, 3, 5, 7, 11, 13, 17, 19, 23]\n"
          ]
        }
      ],
      "source": [
        "lst =[]\n",
        "num = int(input('enter number that you want to create a list of prime numbers'))\n",
        "for i in range (2, num):\n",
        "  is_prime = True\n",
        "  for j in range (2, int(i**0.5)+1):\n",
        "    if i %j ==0:\n",
        "      is_prime = False\n",
        "      break\n",
        "  if is_prime:\n",
        "    lst.append(i)\n",
        "print(lst)"
      ]
    },
    {
      "cell_type": "code",
      "execution_count": null,
      "metadata": {
        "id": "WtOK69iOcQVX"
      },
      "outputs": [],
      "source": [
        "import random"
      ]
    },
    {
      "cell_type": "code",
      "execution_count": null,
      "metadata": {
        "colab": {
          "base_uri": "https://localhost:8080/"
        },
        "id": "5MnWEFH3kIyz",
        "outputId": "07f22776-57f8-4305-b0ae-b2621d010cf8"
      },
      "outputs": [
        {
          "name": "stdout",
          "output_type": "stream",
          "text": [
            "18\n"
          ]
        }
      ],
      "source": [
        "num = random.randint(1,20)\n",
        "print(num)"
      ]
    },
    {
      "cell_type": "code",
      "execution_count": null,
      "metadata": {
        "colab": {
          "base_uri": "https://localhost:8080/"
        },
        "id": "xL6ZIOS3kQeq",
        "outputId": "b03872e6-9e69-4d09-e358-0b8fb18fd277"
      },
      "outputs": [
        {
          "name": "stdout",
          "output_type": "stream",
          "text": [
            "enter number that you want to create a list of prime numbers30\n",
            "[2, 3, 5, 7, 11, 13, 17, 19, 23, 29]\n"
          ]
        }
      ],
      "source": [
        "lst =[]\n",
        "num = int(input('enter number that you want to create a list of prime numbers'))\n",
        "for i in range (num+1):\n",
        "  if i > 1:\n",
        "    for j in range (2, i):\n",
        "      if i%j==0:\n",
        "        break\n",
        "    else:\n",
        "      lst.append(i)\n",
        "print(lst)"
      ]
    },
    {
      "cell_type": "code",
      "execution_count": null,
      "metadata": {
        "id": "DBJLPFYJytr9"
      },
      "outputs": [],
      "source": [
        "celcius = int(input('enter temperature in celcius: '))\n",
        "farenhiet = (celcius*1.8)+32\n",
        "print(farenhiet)"
      ]
    },
    {
      "cell_type": "code",
      "execution_count": null,
      "metadata": {
        "colab": {
          "base_uri": "https://localhost:8080/"
        },
        "id": "Me0QZITpxWFW",
        "outputId": "b7996f3b-8d95-4c3e-f513-21e5eba9056a"
      },
      "outputs": [
        {
          "name": "stdout",
          "output_type": "stream",
          "text": [
            "enter a number for its factorial5\n",
            "120\n"
          ]
        }
      ],
      "source": [
        "fact = 1\n",
        "num = int(input('enter a number for its factorial'))\n",
        "if num <0:\n",
        "  print('no factoraial for number less than 0')\n",
        "if num ==0:\n",
        "  print('factorial for 0 i 1')\n",
        "if num >1:\n",
        "  for i in range(1,num+1):\n",
        "    fact*=i\n",
        "print (fact)\n",
        "\n",
        "\n"
      ]
    },
    {
      "cell_type": "code",
      "execution_count": null,
      "metadata": {
        "id": "GO3n8OV1zrhu"
      },
      "outputs": [],
      "source": [
        "def fact (n):\n",
        "  if n ==0:\n",
        "    return 0\n",
        "  elif n ==1:\n",
        "    return 1\n",
        "  else:\n",
        "    return n*fact(n-1)"
      ]
    },
    {
      "cell_type": "code",
      "execution_count": null,
      "metadata": {
        "colab": {
          "base_uri": "https://localhost:8080/"
        },
        "id": "ueY-RwkDmSzP",
        "outputId": "85552155-913c-4008-fe71-16640ef951e5"
      },
      "outputs": [
        {
          "data": {
            "text/plain": [
              "720"
            ]
          },
          "execution_count": 7,
          "metadata": {},
          "output_type": "execute_result"
        }
      ],
      "source": [
        "fact (6)"
      ]
    },
    {
      "cell_type": "code",
      "execution_count": null,
      "metadata": {
        "colab": {
          "base_uri": "https://localhost:8080/"
        },
        "id": "jlzELQ3jmcgH",
        "outputId": "b311bc1e-d6a6-4f69-97cc-cf9afc6cb506"
      },
      "outputs": [
        {
          "name": "stdout",
          "output_type": "stream",
          "text": [
            "8 x 1 = 8\n",
            "8 x 2 = 16\n",
            "8 x 3 = 24\n",
            "8 x 4 = 32\n",
            "8 x 5 = 40\n",
            "8 x 6 = 48\n",
            "8 x 7 = 56\n",
            "8 x 8 = 64\n",
            "8 x 9 = 72\n",
            "8 x 10 = 80\n"
          ]
        }
      ],
      "source": [
        "n =8\n",
        "for i in range(1,11):\n",
        "  print (n,'x',i, '=' , n*i)"
      ]
    },
    {
      "cell_type": "code",
      "execution_count": null,
      "metadata": {
        "colab": {
          "base_uri": "https://localhost:8080/"
        },
        "id": "8wclJ3XWn1op",
        "outputId": "f0987b9c-fbcd-4a51-a83d-9bb8ca0454cb"
      },
      "outputs": [
        {
          "name": "stdout",
          "output_type": "stream",
          "text": [
            "7 x 1 = 7\n",
            "7 x 2 = 14\n",
            "7 x 3 = 21\n",
            "7 x 4 = 28\n",
            "7 x 5 = 35\n",
            "7 x 6 = 42\n",
            "7 x 7 = 49\n",
            "7 x 8 = 56\n",
            "7 x 9 = 63\n",
            "7 x 10 = 70\n"
          ]
        }
      ],
      "source": [
        "n = 7\n",
        "i= 1\n",
        "while i <=10:\n",
        "  print(n, 'x', i,'=', n*i)\n",
        "  i+=1"
      ]
    },
    {
      "cell_type": "code",
      "execution_count": null,
      "metadata": {
        "colab": {
          "base_uri": "https://localhost:8080/"
        },
        "id": "Wi6nwskwp5R0",
        "outputId": "cc61a685-8eff-4d60-daa4-7fd940d9968a"
      },
      "outputs": [
        {
          "name": "stdout",
          "output_type": "stream",
          "text": [
            "enter a number to get the series8\n",
            "0\n",
            "1\n",
            "1\n",
            "2\n",
            "3\n",
            "5\n",
            "8\n",
            "13\n",
            "21\n",
            "34\n"
          ]
        }
      ],
      "source": [
        "# finbonacci series\n",
        "a = 0\n",
        "b = 1\n",
        "num = int(input('enter a number to get the series'))\n",
        "if num ==1:\n",
        "  print(a)\n",
        "else:\n",
        "  print (a)\n",
        "  print(b)\n",
        "  for i in range (1, num+1):\n",
        "    c = a+b\n",
        "    a = b\n",
        "    b = c\n",
        "    print(c)\n"
      ]
    },
    {
      "cell_type": "code",
      "execution_count": null,
      "metadata": {
        "colab": {
          "base_uri": "https://localhost:8080/"
        },
        "id": "j1L9vsRor9r-",
        "outputId": "b9e989e8-7bf2-4e11-f8ed-cbea2ba0ea25"
      },
      "outputs": [
        {
          "name": "stdout",
          "output_type": "stream",
          "text": [
            "enter a number to check for armstrong153\n",
            "it is an armstrong number\n"
          ]
        }
      ],
      "source": [
        "#Armstrong number eg. 153 = (1**3)+(5**3)+(3**3) or 1536 = (1**4)+(5**4)+(3**4)+(6**4)\n",
        "num = int(input('enter a number to check for armstrong'))\n",
        "order = len(str(num))\n",
        "sum = 0\n",
        "temp = num\n",
        "while temp >0:\n",
        "  digit = temp%10\n",
        "  cube = digit**order\n",
        "  sum = sum +cube\n",
        "  temp//=10\n",
        "if sum == num:\n",
        "  print ('it is an armstrong number')\n",
        "else:\n",
        "  print('not a armstrong number')"
      ]
    },
    {
      "cell_type": "code",
      "execution_count": null,
      "metadata": {
        "colab": {
          "base_uri": "https://localhost:8080/"
        },
        "id": "Hzz5xATxvZZq",
        "outputId": "a8f25927-a746-4729-aabf-6f83d6eb3d9d"
      },
      "outputs": [
        {
          "name": "stdout",
          "output_type": "stream",
          "text": [
            "enter the lower limit of the range: 100\n",
            "enter the upper limit of the range: 1000\n",
            "153\n",
            "370\n",
            "371\n",
            "407\n"
          ]
        }
      ],
      "source": [
        "lower = int(input('enter the lower limit of the range: '))\n",
        "upper = int(input('enter the upper limit of the range: '))\n",
        "for num in range (lower, upper+1):\n",
        "  order = len(str(num))\n",
        "  sum =0\n",
        "  temp =num\n",
        "  while temp >0:\n",
        "    digit = temp%10\n",
        "    cube = digit** order\n",
        "    sum = sum+cube\n",
        "    temp//=10\n",
        "  if sum == num:\n",
        "    print(num)\n"
      ]
    },
    {
      "cell_type": "code",
      "execution_count": null,
      "metadata": {
        "colab": {
          "base_uri": "https://localhost:8080/"
        },
        "id": "00MnxZbZ3KKQ",
        "outputId": "0a36e897-719f-4590-b60c-c2a115d1a034"
      },
      "outputs": [
        {
          "name": "stdout",
          "output_type": "stream",
          "text": [
            "enter a number here: 8\n",
            "36\n"
          ]
        }
      ],
      "source": [
        "#sum of natural numbers\n",
        "num = int(input('enter a number here: '))\n",
        "if num < 0:\n",
        "  print ('enter positive number')\n",
        "else:\n",
        "  sum =0\n",
        "  while num >0:\n",
        "    sum=sum+num\n",
        "    num =num-1\n",
        "  print(sum)"
      ]
    },
    {
      "cell_type": "code",
      "execution_count": null,
      "metadata": {
        "colab": {
          "base_uri": "https://localhost:8080/"
        },
        "id": "Q3u9yX9r4TrX",
        "outputId": "13231213-c5e0-4bcf-8578-b138dfeb4e23"
      },
      "outputs": [
        {
          "name": "stdout",
          "output_type": "stream",
          "text": [
            "entr number of terms here: 5\n",
            "[1, 2, 4, 8, 16, 32]\n"
          ]
        }
      ],
      "source": [
        "nterms = int(input('entr number of terms here: '))\n",
        "result = list(map(lambda x : 2**x, range (nterms+1)))\n",
        "print (result)"
      ]
    },
    {
      "cell_type": "code",
      "execution_count": null,
      "metadata": {
        "colab": {
          "base_uri": "https://localhost:8080/"
        },
        "id": "kO5hvwu950vs",
        "outputId": "cbb274d0-a58d-4e9e-ac2e-f40c551aeccf"
      },
      "outputs": [
        {
          "name": "stdout",
          "output_type": "stream",
          "text": [
            "1\n",
            "2\n",
            "4\n",
            "8\n",
            "16\n",
            "32\n"
          ]
        }
      ],
      "source": [
        "for i in range(nterms+1):\n",
        "  print (result[i])"
      ]
    },
    {
      "cell_type": "code",
      "execution_count": null,
      "metadata": {
        "colab": {
          "base_uri": "https://localhost:8080/"
        },
        "id": "TMMCS01x6GT2",
        "outputId": "64cd8f58-9351-4be2-f362-3c53890abcdb"
      },
      "outputs": [
        {
          "name": "stdout",
          "output_type": "stream",
          "text": [
            "13\n",
            "26\n",
            "39\n",
            "52\n",
            "65\n",
            "78\n",
            "91\n"
          ]
        }
      ],
      "source": [
        "#number divisible by another number\n",
        "for i in range (1,100):\n",
        "  if i %13 ==0:\n",
        "    print(i)"
      ]
    },
    {
      "cell_type": "code",
      "execution_count": null,
      "metadata": {
        "colab": {
          "base_uri": "https://localhost:8080/"
        },
        "id": "ABUvPzHx7GbP",
        "outputId": "e7317cc0-b9d3-4e06-c73c-2cd58b49191f"
      },
      "outputs": [
        {
          "name": "stdout",
          "output_type": "stream",
          "text": [
            "[39, 26]\n"
          ]
        }
      ],
      "source": [
        "l=[39,48,26,98,33,67,87]\n",
        "result = list(filter(lambda x: x%13==0, l))\n",
        "print(result)"
      ]
    },
    {
      "cell_type": "code",
      "execution_count": null,
      "metadata": {
        "colab": {
          "base_uri": "https://localhost:8080/"
        },
        "id": "fGaS0K-r7a6t",
        "outputId": "408e47ca-38a3-4d63-b96b-6a66d521991a"
      },
      "outputs": [
        {
          "name": "stdout",
          "output_type": "stream",
          "text": [
            "0b1100\n",
            "0o14\n",
            "0xc\n"
          ]
        }
      ],
      "source": [
        "#decimal number to binary, octal, and hexadecimal\n",
        "decimal = 12\n",
        "print(bin(decimal))\n",
        "print(oct(decimal))\n",
        "print(hex(decimal))"
      ]
    },
    {
      "cell_type": "code",
      "execution_count": null,
      "metadata": {
        "colab": {
          "base_uri": "https://localhost:8080/"
        },
        "id": "5sSXc3dm-LrZ",
        "outputId": "1e5cc2b5-7ca6-4c05-ee02-74fc28890254"
      },
      "outputs": [
        {
          "name": "stdout",
          "output_type": "stream",
          "text": [
            "64\n"
          ]
        }
      ],
      "source": [
        "# find the ASCII values of 128 letters and number\n",
        "char ='@'\n",
        "print(ord(char))"
      ]
    },
    {
      "cell_type": "code",
      "execution_count": null,
      "metadata": {
        "colab": {
          "base_uri": "https://localhost:8080/"
        },
        "id": "QupihDUD_A0k",
        "outputId": "acc39103-4bf5-4f91-909b-bc270c532a04"
      },
      "outputs": [
        {
          "name": "stdout",
          "output_type": "stream",
          "text": [
            "6\n"
          ]
        }
      ],
      "source": [
        "#HCF\n",
        "def find_hcf(x,y):\n",
        "  if x>y:\n",
        "    smaller = Y\n",
        "  else:\n",
        "    smaller = x\n",
        "  for i in range(1, smaller+1):\n",
        "    if ((x%i==0) and (y%i==0)):\n",
        "      hcf = i\n",
        "  return hcf\n",
        "\n",
        "print(find_hcf(12,30))"
      ]
    },
    {
      "cell_type": "code",
      "execution_count": null,
      "metadata": {
        "colab": {
          "base_uri": "https://localhost:8080/"
        },
        "id": "5gWHl_DKAi79",
        "outputId": "cec2bdad-afb1-4871-ba37-8ca4d44da9fd"
      },
      "outputs": [
        {
          "name": "stdout",
          "output_type": "stream",
          "text": [
            "1\n",
            "2\n",
            "3\n",
            "4\n",
            "6\n",
            "12\n"
          ]
        }
      ],
      "source": [
        "#factors of a number\n",
        "num = 12\n",
        "for i in range(1,num+1):\n",
        "  if num%i==0:\n",
        "    print(i)"
      ]
    },
    {
      "cell_type": "code",
      "execution_count": null,
      "metadata": {
        "colab": {
          "base_uri": "https://localhost:8080/"
        },
        "id": "GvkqWAEMBkZk",
        "outputId": "6525cc45-64d5-4a2c-92a1-4ecdea9c7c96"
      },
      "outputs": [
        {
          "name": "stdout",
          "output_type": "stream",
          "text": [
            "enter the first number564\n",
            "enter the second number2\n",
            "specify your operators + - * /+\n",
            "566\n"
          ]
        }
      ],
      "source": [
        "  x=int(input('enter the first number'))\n",
        "  y = int(input('enter the second number'))\n",
        "\n",
        "  choice = input('specify your operators + - * /')\n",
        "  if choice == '+':\n",
        "    result = x+y\n",
        "  elif choice == '-':\n",
        "    result = x-Y\n",
        "  elif choice == '*':\n",
        "    result = x*y\n",
        "  else:\n",
        "    result =x/y\n",
        "\n",
        "  print(result)\n",
        "\n",
        "\n"
      ]
    },
    {
      "cell_type": "code",
      "execution_count": null,
      "metadata": {
        "colab": {
          "base_uri": "https://localhost:8080/"
        },
        "id": "1bt6RNnXFxEW",
        "outputId": "da6e65e7-cd98-49e3-e2d3-4216b38b17db"
      },
      "outputs": [
        {
          "name": "stdout",
          "output_type": "stream",
          "text": [
            "enter the year1981\n",
            "enter the month9\n",
            "   September 1981\n",
            "Mo Tu We Th Fr Sa Su\n",
            "    1  2  3  4  5  6\n",
            " 7  8  9 10 11 12 13\n",
            "14 15 16 17 18 19 20\n",
            "21 22 23 24 25 26 27\n",
            "28 29 30\n",
            "\n"
          ]
        }
      ],
      "source": [
        "import calendar\n",
        "year = int(input('enter the year'))\n",
        "month = int(input('enter the month'))\n",
        "\n",
        "calendr = calendar.month(year, month)\n",
        "print(calendr)"
      ]
    },
    {
      "cell_type": "code",
      "execution_count": null,
      "metadata": {
        "colab": {
          "base_uri": "https://localhost:8080/"
        },
        "id": "Zgnyq6GIxBZC",
        "outputId": "d39758df-0fe7-421f-8b45-388f72ad0d1d"
      },
      "outputs": [
        {
          "name": "stdout",
          "output_type": "stream",
          "text": [
            "Enter a number6\n",
            "Fibo sequence\n",
            "0\n",
            "1\n",
            "1\n",
            "2\n",
            "3\n",
            "5\n"
          ]
        }
      ],
      "source": [
        "def fibo(n):\n",
        "  if n <=1:\n",
        "    return n\n",
        "  else:\n",
        "    return fibo(n-1)+fibo(n-2)\n",
        "\n",
        "n = int(input('Enter a number'))\n",
        "if n <=0:\n",
        "  print ('Enter positive number')\n",
        "else:\n",
        "  print('Fibo sequence')\n",
        "  for i in range(n):\n",
        "    print (fibo(i))"
      ]
    },
    {
      "cell_type": "code",
      "execution_count": null,
      "metadata": {
        "colab": {
          "base_uri": "https://localhost:8080/"
        },
        "id": "hc47vDAe0sFc",
        "outputId": "959a431e-f0d2-4754-8bd7-c5d0b4876b8c"
      },
      "outputs": [
        {
          "name": "stdout",
          "output_type": "stream",
          "text": [
            "Enter a number5\n",
            "Sum of Natural number\n",
            "0\n",
            "1\n",
            "1\n",
            "2\n",
            "3\n"
          ]
        }
      ],
      "source": [
        "def NaturalNumSum(n):\n",
        "  if n <=1:\n",
        "    return n\n",
        "  else:\n",
        "    return (n)+NaturalNumSum(n-1)\n",
        "\n",
        "n = int(input('Enter a number'))\n",
        "if n <=0:\n",
        "  print ('Enter positive number')\n",
        "else:\n",
        "  print('Sum of Natural number')\n",
        "  for i in range(n):\n",
        "    print (fibo(i))"
      ]
    },
    {
      "cell_type": "code",
      "execution_count": null,
      "metadata": {
        "colab": {
          "base_uri": "https://localhost:8080/"
        },
        "id": "04GN0ud93LCD",
        "outputId": "d344563f-b51a-499e-cb1d-24a896c21344"
      },
      "outputs": [
        {
          "data": {
            "text/plain": [
              "15"
            ]
          },
          "execution_count": 15,
          "metadata": {},
          "output_type": "execute_result"
        }
      ],
      "source": [
        "NaturalNumSum(5)"
      ]
    },
    {
      "cell_type": "code",
      "execution_count": null,
      "metadata": {
        "id": "qVOv0XsS3NQt"
      },
      "outputs": [],
      "source": [
        "def fact(n):\n",
        "  if n ==1:\n",
        "    return 1\n",
        "  else:\n",
        "    return n*fact(n-1)"
      ]
    },
    {
      "cell_type": "code",
      "execution_count": null,
      "metadata": {
        "colab": {
          "base_uri": "https://localhost:8080/"
        },
        "id": "ZpgJUty14o-r",
        "outputId": "50ccc456-fc42-4ecc-cfcb-78c2f010588d"
      },
      "outputs": [
        {
          "data": {
            "text/plain": [
              "120"
            ]
          },
          "execution_count": 19,
          "metadata": {},
          "output_type": "execute_result"
        }
      ],
      "source": [
        "fact(5)"
      ]
    },
    {
      "cell_type": "code",
      "execution_count": null,
      "metadata": {
        "colab": {
          "base_uri": "https://localhost:8080/"
        },
        "id": "wfmDa6dJ4qpX",
        "outputId": "3634a62f-2a55-4c29-8c48-16a67056a73f"
      },
      "outputs": [
        {
          "name": "stdout",
          "output_type": "stream",
          "text": [
            "palindrom\n"
          ]
        }
      ],
      "source": [
        "a = 'madam'\n",
        "rev = a[::-1]\n",
        "\n",
        "if a == rev:\n",
        "  print('palindrom')\n",
        "else:\n",
        "  print ('no palindrom')"
      ]
    },
    {
      "cell_type": "code",
      "execution_count": null,
      "metadata": {
        "colab": {
          "base_uri": "https://localhost:8080/",
          "height": 35
        },
        "id": "WBa4urZR_Jeq",
        "outputId": "99823ff7-c1c4-43c5-a235-afd631c487dd"
      },
      "outputs": [
        {
          "data": {
            "application/vnd.google.colaboratory.intrinsic+json": {
              "type": "string"
            },
            "text/plain": [
              "'ma'"
            ]
          },
          "execution_count": 23,
          "metadata": {},
          "output_type": "execute_result"
        }
      ],
      "source": [
        "a[:2:-1]"
      ]
    },
    {
      "cell_type": "code",
      "execution_count": null,
      "metadata": {
        "id": "BYhTOFE0_O-7"
      },
      "outputs": [],
      "source": [
        "sentence = 'Harry Potter and the Goblet of Fire'\n",
        "words = sentence.split()"
      ]
    },
    {
      "cell_type": "code",
      "execution_count": null,
      "metadata": {
        "colab": {
          "base_uri": "https://localhost:8080/"
        },
        "id": "RDyG-eVa_caJ",
        "outputId": "f360e6d3-6f80-45cf-e8cd-088f9576c3a1"
      },
      "outputs": [
        {
          "data": {
            "text/plain": [
              "['Harry', 'Potter', 'and', 'the', 'Goblet', 'of', 'Fire']"
            ]
          },
          "execution_count": 28,
          "metadata": {},
          "output_type": "execute_result"
        }
      ],
      "source": [
        "words"
      ]
    },
    {
      "cell_type": "code",
      "execution_count": null,
      "metadata": {
        "id": "9JqqqrCfBfpZ"
      },
      "outputs": [],
      "source": [
        "for i in range(len(words)):\n",
        "  words[i] = words[i].lower()"
      ]
    },
    {
      "cell_type": "code",
      "execution_count": null,
      "metadata": {
        "colab": {
          "base_uri": "https://localhost:8080/"
        },
        "id": "tY6OzBalBw_8",
        "outputId": "4323c809-497a-46ff-8adb-705a180aa605"
      },
      "outputs": [
        {
          "data": {
            "text/plain": [
              "['harry', 'potter', 'and', 'the', 'goblet', 'of', 'fire']"
            ]
          },
          "execution_count": 32,
          "metadata": {},
          "output_type": "execute_result"
        }
      ],
      "source": [
        "words"
      ]
    },
    {
      "cell_type": "code",
      "execution_count": null,
      "metadata": {
        "id": "A35OmUtXCKQD"
      },
      "outputs": [],
      "source": [
        "words.sort()"
      ]
    },
    {
      "cell_type": "code",
      "execution_count": null,
      "metadata": {
        "colab": {
          "base_uri": "https://localhost:8080/"
        },
        "id": "Nxk3XGhICMwD",
        "outputId": "c4697b34-0505-4fd9-9070-8a19fdd4e13e"
      },
      "outputs": [
        {
          "data": {
            "text/plain": [
              "['and', 'fire', 'goblet', 'harry', 'of', 'potter', 'the']"
            ]
          },
          "execution_count": 34,
          "metadata": {},
          "output_type": "execute_result"
        }
      ],
      "source": [
        "words"
      ]
    },
    {
      "cell_type": "code",
      "execution_count": null,
      "metadata": {
        "id": "Cw5hNZNiCNwA"
      },
      "outputs": [],
      "source": [
        "def is_palindrome(number):\n",
        "    # Convert the number to a string and check if it reads the same backward\n",
        "    return str(number) == str(number)[::-1]\n",
        "\n",
        "def find_palindromes(start, end):\n",
        "    palindromes = []\n",
        "    for num in range(start, end + 1):\n",
        "        if is_palindrome(num):\n",
        "            palindromes.append(num)\n",
        "    return palindromes\n",
        "\n",
        "start_range = 9990000000\n",
        "end_range = 9999999999\n",
        "\n",
        "palindrome_numbers = find_palindromes(start_range, end_range)\n"
      ]
    },
    {
      "cell_type": "code",
      "execution_count": null,
      "metadata": {
        "colab": {
          "base_uri": "https://localhost:8080/"
        },
        "id": "ATz95PPOolna",
        "outputId": "79d80d33-514f-41bb-ea6f-02391214a032"
      },
      "outputs": [
        {
          "name": "stdout",
          "output_type": "stream",
          "text": [
            "{'a': 2, 'e': 4, 'i': 1, 'o': 3, 'u': 0}\n"
          ]
        }
      ],
      "source": [
        "# Count the number of vowels in a sentence\n",
        "\n",
        "a = \"Harry poter and the Goblet of Fire\"\n",
        "vowels = \"aeiou\"\n",
        "\n",
        "a=a.casefold()\n",
        "count = {}.fromkeys(vowels,0)\n",
        "\n",
        "for char in a:\n",
        "  if char in count:\n",
        "    count[char]+=1\n",
        "\n",
        "print (count)"
      ]
    },
    {
      "cell_type": "code",
      "execution_count": null,
      "metadata": {
        "colab": {
          "base_uri": "https://localhost:8080/"
        },
        "id": "SpCuWmII2ICe",
        "outputId": "3cf075c0-27dc-4645-ac0b-d471a3864bbd"
      },
      "outputs": [
        {
          "name": "stdout",
          "output_type": "stream",
          "text": [
            "{'a': 2, 'e': 4, 'i': 1, 'o': 3, 'u': 0}\n"
          ]
        }
      ],
      "source": [
        "#Dictionary comprehension\n",
        "count = {key:sum([1 for char in a if char == key]) for key in vowels}\n",
        "\n",
        "print (count)"
      ]
    },
    {
      "cell_type": "code",
      "execution_count": null,
      "metadata": {
        "colab": {
          "base_uri": "https://localhost:8080/"
        },
        "id": "0in-z7Sl3hG-",
        "outputId": "ceeca04d-d2ed-4f1a-ab97-b9e83946d427"
      },
      "outputs": [
        {
          "name": "stdout",
          "output_type": "stream",
          "text": [
            "0 25\n",
            "1 35\n",
            "2 45\n",
            "3 55\n",
            "4 65\n"
          ]
        }
      ],
      "source": [
        "#Accessing Index of List using for Loop\n",
        "# Enumerate method\n",
        "list1 = [25,35,45,55,65]\n",
        "\n",
        "for key, value in enumerate(list1):\n",
        "  print(key,value)"
      ]
    },
    {
      "cell_type": "code",
      "execution_count": null,
      "metadata": {
        "colab": {
          "base_uri": "https://localhost:8080/"
        },
        "id": "tAtZ-mHR6PTy",
        "outputId": "800bc6e0-90ca-4c65-ba27-b9a87966c015"
      },
      "outputs": [
        {
          "name": "stdout",
          "output_type": "stream",
          "text": [
            "0 25\n",
            "1 35\n",
            "2 45\n",
            "3 55\n",
            "4 65\n"
          ]
        }
      ],
      "source": [
        "#without enumarate method\n",
        "for index in range (len(list1)):\n",
        "  value = list1[index]\n",
        "  print(index, value)"
      ]
    },
    {
      "cell_type": "code",
      "execution_count": null,
      "metadata": {
        "colab": {
          "base_uri": "https://localhost:8080/"
        },
        "id": "JN7pQO3A7HFL",
        "outputId": "bdab4202-d03e-4f42-d329-734e10caa2b0"
      },
      "outputs": [
        {
          "name": "stdout",
          "output_type": "stream",
          "text": [
            "55\n"
          ]
        }
      ],
      "source": [
        "print(list1[3])\n",
        "\n"
      ]
    },
    {
      "cell_type": "code",
      "execution_count": null,
      "metadata": {
        "colab": {
          "base_uri": "https://localhost:8080/"
        },
        "id": "JqjDFczG7dQK",
        "outputId": "6e0248e6-5201-4014-af65-d923e5d196c7"
      },
      "outputs": [
        {
          "name": "stdout",
          "output_type": "stream",
          "text": [
            "('one', 'vijay')\n",
            "('two', 'kumar')\n",
            "('three', 'sona')\n",
            "('four', 'yaash')\n"
          ]
        }
      ],
      "source": [
        "friends ={'one':'vijay','two':'kumar','three':'sona','four':'yaash'}\n",
        "for i in friends.items():\n",
        "  print (i)"
      ]
    },
    {
      "cell_type": "code",
      "execution_count": null,
      "metadata": {
        "colab": {
          "base_uri": "https://localhost:8080/"
        },
        "id": "1IQW3i9t-lJZ",
        "outputId": "f03d0c1c-b047-4b94-e830-707f1d4a32c7"
      },
      "outputs": [
        {
          "name": "stdout",
          "output_type": "stream",
          "text": [
            "one vijay\n",
            "two kumar\n",
            "three sona\n",
            "four yaash\n"
          ]
        }
      ],
      "source": [
        "for key,value in friends.items():\n",
        "  print(key, value)"
      ]
    },
    {
      "cell_type": "code",
      "execution_count": null,
      "metadata": {
        "colab": {
          "base_uri": "https://localhost:8080/"
        },
        "id": "Sqrf_il3-wN-",
        "outputId": "f098eaae-f50e-4b7e-937b-a2d3e918bb4c"
      },
      "outputs": [
        {
          "name": "stdout",
          "output_type": "stream",
          "text": [
            "one vijay\n",
            "two kumar\n",
            "three sona\n",
            "four yaash\n"
          ]
        }
      ],
      "source": [
        "for key in friends:\n",
        "  print(key, friends[key])"
      ]
    },
    {
      "cell_type": "code",
      "execution_count": null,
      "metadata": {
        "colab": {
          "base_uri": "https://localhost:8080/"
        },
        "id": "yL3LfdI2-7bH",
        "outputId": "81bbe0fa-729d-44cf-d905-1a3dae18df56"
      },
      "outputs": [
        {
          "name": "stdout",
          "output_type": "stream",
          "text": [
            "one\n",
            "two\n",
            "three\n",
            "four\n"
          ]
        }
      ],
      "source": [
        "for key in friends.keys():\n",
        "  print(key)"
      ]
    },
    {
      "cell_type": "code",
      "execution_count": null,
      "metadata": {
        "colab": {
          "base_uri": "https://localhost:8080/"
        },
        "id": "zUnrbvZL_QtY",
        "outputId": "f0437522-ed55-4711-b9be-e05be5c27491"
      },
      "outputs": [
        {
          "name": "stdout",
          "output_type": "stream",
          "text": [
            "vijay\n",
            "kumar\n",
            "sona\n",
            "yaash\n"
          ]
        }
      ],
      "source": [
        "for i in friends.values():\n",
        "  print(i)"
      ]
    },
    {
      "cell_type": "code",
      "execution_count": null,
      "metadata": {
        "colab": {
          "base_uri": "https://localhost:8080/"
        },
        "id": "21-jf2c2_gL1",
        "outputId": "a08511bc-5cfd-448e-e23b-161d154dad76"
      },
      "outputs": [
        {
          "name": "stdout",
          "output_type": "stream",
          "text": [
            "[('four', 2), ('two', 5), ('one', 10), ('three', 14)]\n",
            "[('four', 2), ('one', 10), ('three', 14), ('two', 5)]\n"
          ]
        }
      ],
      "source": [
        "marks ={'one':10,'two': 5,'three':14,'four':2}\n",
        "sorted_value = sorted(marks.items(), key = lambda x:x[1])\n",
        "sorted_keys = sorted(marks.items(), key = lambda x:x[0])\n",
        "print(sorted_value)\n",
        "print(sorted_keys)"
      ]
    },
    {
      "cell_type": "code",
      "execution_count": null,
      "metadata": {
        "colab": {
          "base_uri": "https://localhost:8080/"
        },
        "id": "LmwoWCGXBlYS",
        "outputId": "2c4c64e7-0f8f-42a8-83e5-095512421f47"
      },
      "outputs": [
        {
          "name": "stdout",
          "output_type": "stream",
          "text": [
            "[2, 5, 10, 14]\n"
          ]
        }
      ],
      "source": [
        "sv = sorted(marks.values())\n",
        "print(sv)"
      ]
    },
    {
      "cell_type": "code",
      "execution_count": null,
      "metadata": {
        "colab": {
          "base_uri": "https://localhost:8080/"
        },
        "id": "taT16wTOC4QQ",
        "outputId": "8db10f4d-e2f3-442a-e55a-05d0a40608d1"
      },
      "outputs": [
        {
          "name": "stdout",
          "output_type": "stream",
          "text": [
            "['four', 'one', 'three', 'two']\n"
          ]
        }
      ],
      "source": [
        "sk = sorted(marks.keys())\n",
        "print(sk)"
      ]
    },
    {
      "cell_type": "code",
      "execution_count": null,
      "metadata": {
        "colab": {
          "base_uri": "https://localhost:8080/"
        },
        "id": "Ung-1ac3DBVL",
        "outputId": "1063e800-6912-4fe1-8b00-ea05a58d7b87"
      },
      "outputs": [
        {
          "name": "stdout",
          "output_type": "stream",
          "text": [
            "0\n",
            "the list is empty\n"
          ]
        }
      ],
      "source": [
        "#How to Check if a List is Empty in Python\n",
        "my_list = []\n",
        "print(len(my_list))\n",
        "if len(my_list)==0:\n",
        "  print('the list is empty')"
      ]
    },
    {
      "cell_type": "code",
      "execution_count": null,
      "metadata": {
        "colab": {
          "base_uri": "https://localhost:8080/"
        },
        "id": "3svaZLPcD58s",
        "outputId": "7ad9dc6f-88b6-4221-f030-720cd292f59a"
      },
      "outputs": [
        {
          "name": "stdout",
          "output_type": "stream",
          "text": [
            "the list is empty\n"
          ]
        }
      ],
      "source": [
        "if my_list==[]:\n",
        "  print('the list is empty')"
      ]
    },
    {
      "cell_type": "code",
      "execution_count": null,
      "metadata": {
        "colab": {
          "base_uri": "https://localhost:8080/"
        },
        "id": "fUALiEuLEUrB",
        "outputId": "731c1508-0d57-4b98-b8ca-3a3aa7154b4d"
      },
      "outputs": [
        {
          "name": "stdout",
          "output_type": "stream",
          "text": [
            "the list is empty\n"
          ]
        }
      ],
      "source": [
        "if not my_list:\n",
        "  print('the list is empty')"
      ]
    },
    {
      "cell_type": "code",
      "execution_count": null,
      "metadata": {
        "colab": {
          "base_uri": "https://localhost:8080/"
        },
        "id": "yRWYdcz_Ee4c",
        "outputId": "b3f89a63-4c73-4ecd-a2ae-6d30cc75ed2f"
      },
      "outputs": [
        {
          "name": "stdout",
          "output_type": "stream",
          "text": [
            "enter something here: vijay\n",
            "enter a number here: 10\n",
            "Thank you\n"
          ]
        }
      ],
      "source": [
        "#Catch Multiple Exception Handling\n",
        "try:\n",
        "  string = input('enter something here: ')\n",
        "  num = int(input('enter a number here: '))\n",
        "except (ValueError, TypeError) as a:\n",
        "  print(a)\n",
        "\n",
        "print('Thank you')\n"
      ]
    },
    {
      "cell_type": "code",
      "execution_count": null,
      "metadata": {
        "colab": {
          "base_uri": "https://localhost:8080/"
        },
        "id": "OOy0M5kfFzNG",
        "outputId": "10615a06-1740-4f4c-cf45-4deb8b1eaafe"
      },
      "outputs": [
        {
          "name": "stdout",
          "output_type": "stream",
          "text": [
            "[3, 6, 8, 2, 'a', 'j', 3, 6, 'k', 'f', 'j']\n"
          ]
        }
      ],
      "source": [
        "#How to Concatenate Two List Using Python Codes\n",
        "l1 = [3,6,8,2,\"a\",\"j\"]\n",
        "l2 = [3,6,\"k\",\"f\",\"j\"]\n",
        "l3 = l1+l2\n",
        "print (l3)"
      ]
    },
    {
      "cell_type": "code",
      "execution_count": null,
      "metadata": {
        "colab": {
          "base_uri": "https://localhost:8080/"
        },
        "id": "9TCawNxLHXHc",
        "outputId": "a872fd79-a66f-417a-e7c6-6d4617339ec0"
      },
      "outputs": [
        {
          "name": "stdout",
          "output_type": "stream",
          "text": [
            "[2, 3, 6, 8, 'a', 'f', 'k', 'j']\n"
          ]
        }
      ],
      "source": [
        "#print unique elements after concatenating\n",
        "l4 = list(set(l1+l2))\n",
        "print(l4)"
      ]
    },
    {
      "cell_type": "code",
      "execution_count": null,
      "metadata": {
        "colab": {
          "base_uri": "https://localhost:8080/"
        },
        "id": "XRzu1LujHii_",
        "outputId": "1b4f57e6-a8b5-493e-b240-0f296b7711dc"
      },
      "outputs": [
        {
          "name": "stdout",
          "output_type": "stream",
          "text": [
            "None\n"
          ]
        }
      ],
      "source": [
        "l5 = l1.extend(l2)\n",
        "print(l5)"
      ]
    },
    {
      "cell_type": "code",
      "execution_count": null,
      "metadata": {
        "colab": {
          "base_uri": "https://localhost:8080/"
        },
        "id": "APYEs6ZaHueQ",
        "outputId": "0aa4cdee-deed-4ced-b4d1-440f476b0c80"
      },
      "outputs": [
        {
          "name": "stdout",
          "output_type": "stream",
          "text": [
            "name is present\n"
          ]
        }
      ],
      "source": [
        "#Python Program to Check if a Key is Already Present in a Dictionary\n",
        "\n",
        "name = 'three'\n",
        "if name in friends.keys():\n",
        "  print(\"name is present\")\n",
        "else:\n",
        "  print('no name')"
      ]
    },
    {
      "cell_type": "code",
      "execution_count": null,
      "metadata": {
        "colab": {
          "base_uri": "https://localhost:8080/",
          "height": 407
        },
        "id": "yk87yivUJKUW",
        "outputId": "4a2e7bf9-d6b8-482c-8a21-a402c3296cc6"
      },
      "outputs": [
        {
          "name": "stdout",
          "output_type": "stream",
          "text": [
            "<class 'str'>\n"
          ]
        },
        {
          "ename": "ValueError",
          "evalue": "ignored",
          "output_type": "error",
          "traceback": [
            "\u001b[0;31m---------------------------------------------------------------------------\u001b[0m",
            "\u001b[0;31mValueError\u001b[0m                                Traceback (most recent call last)",
            "\u001b[0;32m<ipython-input-44-093b6818c62d>\u001b[0m in \u001b[0;36m<cell line: 6>\u001b[0;34m()\u001b[0m\n\u001b[1;32m      4\u001b[0m \u001b[0mprint\u001b[0m\u001b[0;34m(\u001b[0m\u001b[0mtype\u001b[0m\u001b[0;34m(\u001b[0m\u001b[0mdate\u001b[0m\u001b[0;34m)\u001b[0m\u001b[0;34m)\u001b[0m\u001b[0;34m\u001b[0m\u001b[0;34m\u001b[0m\u001b[0m\n\u001b[1;32m      5\u001b[0m \u001b[0;34m\u001b[0m\u001b[0m\n\u001b[0;32m----> 6\u001b[0;31m \u001b[0mdate_time\u001b[0m \u001b[0;34m=\u001b[0m \u001b[0mdatetime\u001b[0m\u001b[0;34m.\u001b[0m\u001b[0mstrptime\u001b[0m\u001b[0;34m(\u001b[0m\u001b[0mdate\u001b[0m\u001b[0;34m,\u001b[0m \u001b[0;34m\"%b %d %Y %I:%M%p\"\u001b[0m\u001b[0;34m)\u001b[0m\u001b[0;34m\u001b[0m\u001b[0;34m\u001b[0m\u001b[0m\n\u001b[0m\u001b[1;32m      7\u001b[0m \u001b[0mprint\u001b[0m \u001b[0;34m(\u001b[0m\u001b[0mdate_time\u001b[0m\u001b[0;34m)\u001b[0m\u001b[0;34m\u001b[0m\u001b[0;34m\u001b[0m\u001b[0m\n\u001b[1;32m      8\u001b[0m \u001b[0mprint\u001b[0m\u001b[0;34m(\u001b[0m\u001b[0mtype\u001b[0m\u001b[0;34m(\u001b[0m\u001b[0mdate_time\u001b[0m\u001b[0;34m)\u001b[0m\u001b[0;34m)\u001b[0m\u001b[0;34m\u001b[0m\u001b[0;34m\u001b[0m\u001b[0m\n",
            "\u001b[0;32m/usr/lib/python3.10/_strptime.py\u001b[0m in \u001b[0;36m_strptime_datetime\u001b[0;34m(cls, data_string, format)\u001b[0m\n\u001b[1;32m    566\u001b[0m     \"\"\"Return a class cls instance based on the input string and the\n\u001b[1;32m    567\u001b[0m     format string.\"\"\"\n\u001b[0;32m--> 568\u001b[0;31m     \u001b[0mtt\u001b[0m\u001b[0;34m,\u001b[0m \u001b[0mfraction\u001b[0m\u001b[0;34m,\u001b[0m \u001b[0mgmtoff_fraction\u001b[0m \u001b[0;34m=\u001b[0m \u001b[0m_strptime\u001b[0m\u001b[0;34m(\u001b[0m\u001b[0mdata_string\u001b[0m\u001b[0;34m,\u001b[0m \u001b[0mformat\u001b[0m\u001b[0;34m)\u001b[0m\u001b[0;34m\u001b[0m\u001b[0;34m\u001b[0m\u001b[0m\n\u001b[0m\u001b[1;32m    569\u001b[0m     \u001b[0mtzname\u001b[0m\u001b[0;34m,\u001b[0m \u001b[0mgmtoff\u001b[0m \u001b[0;34m=\u001b[0m \u001b[0mtt\u001b[0m\u001b[0;34m[\u001b[0m\u001b[0;34m-\u001b[0m\u001b[0;36m2\u001b[0m\u001b[0;34m:\u001b[0m\u001b[0;34m]\u001b[0m\u001b[0;34m\u001b[0m\u001b[0;34m\u001b[0m\u001b[0m\n\u001b[1;32m    570\u001b[0m     \u001b[0margs\u001b[0m \u001b[0;34m=\u001b[0m \u001b[0mtt\u001b[0m\u001b[0;34m[\u001b[0m\u001b[0;34m:\u001b[0m\u001b[0;36m6\u001b[0m\u001b[0;34m]\u001b[0m \u001b[0;34m+\u001b[0m \u001b[0;34m(\u001b[0m\u001b[0mfraction\u001b[0m\u001b[0;34m,\u001b[0m\u001b[0;34m)\u001b[0m\u001b[0;34m\u001b[0m\u001b[0;34m\u001b[0m\u001b[0m\n",
            "\u001b[0;32m/usr/lib/python3.10/_strptime.py\u001b[0m in \u001b[0;36m_strptime\u001b[0;34m(data_string, format)\u001b[0m\n\u001b[1;32m    347\u001b[0m     \u001b[0mfound\u001b[0m \u001b[0;34m=\u001b[0m \u001b[0mformat_regex\u001b[0m\u001b[0;34m.\u001b[0m\u001b[0mmatch\u001b[0m\u001b[0;34m(\u001b[0m\u001b[0mdata_string\u001b[0m\u001b[0;34m)\u001b[0m\u001b[0;34m\u001b[0m\u001b[0;34m\u001b[0m\u001b[0m\n\u001b[1;32m    348\u001b[0m     \u001b[0;32mif\u001b[0m \u001b[0;32mnot\u001b[0m \u001b[0mfound\u001b[0m\u001b[0;34m:\u001b[0m\u001b[0;34m\u001b[0m\u001b[0;34m\u001b[0m\u001b[0m\n\u001b[0;32m--> 349\u001b[0;31m         raise ValueError(\"time data %r does not match format %r\" %\n\u001b[0m\u001b[1;32m    350\u001b[0m                          (data_string, format))\n\u001b[1;32m    351\u001b[0m     \u001b[0;32mif\u001b[0m \u001b[0mlen\u001b[0m\u001b[0;34m(\u001b[0m\u001b[0mdata_string\u001b[0m\u001b[0;34m)\u001b[0m \u001b[0;34m!=\u001b[0m \u001b[0mfound\u001b[0m\u001b[0;34m.\u001b[0m\u001b[0mend\u001b[0m\u001b[0;34m(\u001b[0m\u001b[0;34m)\u001b[0m\u001b[0;34m:\u001b[0m\u001b[0;34m\u001b[0m\u001b[0;34m\u001b[0m\u001b[0m\n",
            "\u001b[0;31mValueError\u001b[0m: time data 'Oct 14 1997 7:15 AM' does not match format '%b %d %Y %I:%M%p'"
          ]
        }
      ],
      "source": [
        "#How to Convert String to DateTime using Python Codes\n",
        "from datetime import datetime\n",
        "date = \"Oct 14 1997 7:15 AM\"\n",
        "print(type(date))\n",
        "\n",
        "date_time = datetime.strptime(date, \"%b %d %Y %I:%M%p\")\n",
        "print (date_time)\n",
        "print(type(date_time))"
      ]
    },
    {
      "cell_type": "code",
      "execution_count": null,
      "metadata": {
        "colab": {
          "base_uri": "https://localhost:8080/"
        },
        "id": "YXynolv8ME77",
        "outputId": "dcba122d-e46f-448c-c3d9-bff3eb9db34d"
      },
      "outputs": [
        {
          "name": "stdout",
          "output_type": "stream",
          "text": [
            "1997-10-14 07:15:00\n"
          ]
        }
      ],
      "source": [
        "from dateutil import parser\n",
        "date_time = parser.parse(\"Oct 14 1997 7:15 AM\")\n",
        "print(date_time)"
      ]
    },
    {
      "cell_type": "code",
      "execution_count": null,
      "metadata": {
        "colab": {
          "base_uri": "https://localhost:8080/"
        },
        "id": "9lBt_HqZMw5V",
        "outputId": "1467c6fb-af16-4b4b-c9a4-732a16c85b70"
      },
      "outputs": [
        {
          "name": "stdout",
          "output_type": "stream",
          "text": [
            "ironman\n"
          ]
        }
      ],
      "source": [
        "#Python Program to Get the Last Element of the List\n",
        "avengers = ['thor','spider','hulk', 'ironman']\n",
        "print(avengers[-1])"
      ]
    },
    {
      "cell_type": "code",
      "execution_count": null,
      "metadata": {
        "colab": {
          "base_uri": "https://localhost:8080/"
        },
        "id": "0O0_NIqzNiEA",
        "outputId": "f5f71d11-7cfd-4242-e0b0-a14ee9c0c499"
      },
      "outputs": [
        {
          "name": "stdout",
          "output_type": "stream",
          "text": [
            "harry potter and goblet of fire\n"
          ]
        }
      ],
      "source": [
        "#How to Print Output Without a Newline\n",
        "print('harry potter and', end =\" \")\n",
        "print('goblet of fire')"
      ]
    },
    {
      "cell_type": "code",
      "execution_count": null,
      "metadata": {
        "colab": {
          "base_uri": "https://localhost:8080/"
        },
        "id": "dfLOIX4IOd8h",
        "outputId": "00db3e67-a16d-43a9-91f7-a46bbd232b22"
      },
      "outputs": [
        {
          "name": "stdout",
          "output_type": "stream",
          "text": [
            "break - keyword\n",
            "john - non\n",
            "continue - keyword\n",
            "for - keyword\n",
            "global - keyword\n",
            "was - non\n"
          ]
        }
      ],
      "source": [
        "#How to Check if a String is a Valid Keyword or Not\n",
        "import keyword\n",
        "words = ['break', 'john', 'continue', 'for','global','was']\n",
        "for i in range (len(words)):\n",
        "  if keyword.iskeyword(words[i]):\n",
        "    print(words[i], '-', 'keyword')\n",
        "  else:\n",
        "    print(words[i], '-', 'non')"
      ]
    },
    {
      "cell_type": "code",
      "execution_count": null,
      "metadata": {
        "colab": {
          "base_uri": "https://localhost:8080/"
        },
        "id": "uLEgH8faPyEs",
        "outputId": "09dc85cc-b47f-457d-d001-39e1944482fe"
      },
      "outputs": [
        {
          "name": "stdout",
          "output_type": "stream",
          "text": [
            "['False', 'None', 'True', 'and', 'as', 'assert', 'async', 'await', 'break', 'class', 'continue', 'def', 'del', 'elif', 'else', 'except', 'finally', 'for', 'from', 'global', 'if', 'import', 'in', 'is', 'lambda', 'nonlocal', 'not', 'or', 'pass', 'raise', 'return', 'try', 'while', 'with', 'yield']\n"
          ]
        }
      ],
      "source": [
        "print(keyword.kwlist)\n"
      ]
    },
    {
      "cell_type": "code",
      "execution_count": null,
      "metadata": {
        "colab": {
          "base_uri": "https://localhost:8080/"
        },
        "id": "EZnsh3mIQRer",
        "outputId": "d9960278-9ce9-4375-c486-a7d3078c576d"
      },
      "outputs": [
        {
          "name": "stdout",
          "output_type": "stream",
          "text": [
            "m\n",
            "a\n",
            "d\n",
            "o\n",
            "n\n"
          ]
        }
      ],
      "source": [
        "#Python Iterators with Function\n",
        "string = \"madona sabastin\"\n",
        "iterate = iter(string)\n",
        "\n",
        "print(iterate.__next__())\n",
        "print(iterate.__next__())\n",
        "print(iterate.__next__())\n",
        "print(iterate.__next__())\n",
        "print(iterate.__next__())"
      ]
    },
    {
      "cell_type": "code",
      "execution_count": null,
      "metadata": {
        "id": "oaS9ikfiTEOX"
      },
      "outputs": [],
      "source": [
        "class fantastic_five:\n",
        "  def __init__(self):\n",
        "    self.num = 1\n",
        "\n",
        "  def __iter__(self):\n",
        "    return self\n",
        "\n",
        "  def __next__(self):\n",
        "    if self.num<=5:\n",
        "      value = self.num\n",
        "      self.num+=1\n",
        "      return value\n",
        "    else:\n",
        "      raise StopIteration\n",
        "\n",
        "FF = fantastic_five()"
      ]
    },
    {
      "cell_type": "code",
      "execution_count": null,
      "metadata": {
        "colab": {
          "base_uri": "https://localhost:8080/"
        },
        "id": "Zw1hy8XFUH7W",
        "outputId": "de73cbc4-5ede-411d-a40c-3b6f555ade79"
      },
      "outputs": [
        {
          "name": "stdout",
          "output_type": "stream",
          "text": [
            "<__main__.fantastic_five object at 0x7d96faa47b50>\n"
          ]
        }
      ],
      "source": [
        "print(FF)"
      ]
    },
    {
      "cell_type": "code",
      "execution_count": null,
      "metadata": {
        "colab": {
          "base_uri": "https://localhost:8080/"
        },
        "id": "WXc8G6vkUJl1",
        "outputId": "558fcf86-963b-4c7d-8981-c39a43205b43"
      },
      "outputs": [
        {
          "name": "stdout",
          "output_type": "stream",
          "text": [
            "1\n",
            "2\n",
            "3\n",
            "4\n",
            "5\n"
          ]
        }
      ],
      "source": [
        "for i in FF:\n",
        "  print (i)"
      ]
    },
    {
      "cell_type": "code",
      "execution_count": 2,
      "metadata": {
        "colab": {
          "base_uri": "https://localhost:8080/"
        },
        "id": "fMJE71WSUQK5",
        "outputId": "c6ef7e4d-029b-46e7-aa81-f1639f300e4b"
      },
      "outputs": [
        {
          "output_type": "stream",
          "name": "stdout",
          "text": [
            "HULK\n",
            "IRONMAN\n",
            "THOR\n",
            "VISION\n"
          ]
        }
      ],
      "source": [
        "#Python List Comprehension\n",
        "a = ['hulk','ironman','thor','vision']\n",
        "for i in a:\n",
        "  print (i.upper())"
      ]
    },
    {
      "cell_type": "code",
      "execution_count": null,
      "metadata": {
        "colab": {
          "base_uri": "https://localhost:8080/"
        },
        "id": "jIkVhT7lVGlq",
        "outputId": "cac6340d-e7bb-4909-dbc0-6be2b2df74ea"
      },
      "outputs": [
        {
          "name": "stdout",
          "output_type": "stream",
          "text": [
            "['HULK', 'IRONMAN', 'THOR', 'VISION']\n"
          ]
        }
      ],
      "source": [
        "comprehen_list = [i.upper() for i in a]\n",
        "print(comprehen_list)"
      ]
    },
    {
      "cell_type": "code",
      "execution_count": null,
      "metadata": {
        "colab": {
          "background_save": true
        },
        "id": "IiuZnc3yV-9g",
        "outputId": "e1849dea-f87a-4187-b54d-99af0a35d134"
      },
      "outputs": [
        {
          "name": "stdout",
          "output_type": "stream",
          "text": [
            "[0, 1, 2, 3, 4, 5, 6, 7, 8, 9]\n"
          ]
        }
      ],
      "source": []
    }
  ],
  "metadata": {
    "colab": {
      "provenance": [],
      "authorship_tag": "ABX9TyOgz03HgvG/JAth6ly4+ox5",
      "include_colab_link": true
    },
    "kernelspec": {
      "display_name": "Python 3",
      "name": "python3"
    },
    "language_info": {
      "name": "python"
    }
  },
  "nbformat": 4,
  "nbformat_minor": 0
}